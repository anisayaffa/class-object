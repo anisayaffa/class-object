{
  "nbformat": 4,
  "nbformat_minor": 0,
  "metadata": {
    "colab": {
      "provenance": [],
      "include_colab_link": true
    },
    "kernelspec": {
      "name": "python3",
      "display_name": "Python 3"
    },
    "language_info": {
      "name": "python"
    }
  },
  "cells": [
    {
      "cell_type": "markdown",
      "metadata": {
        "id": "view-in-github",
        "colab_type": "text"
      },
      "source": [
        "<a href=\"https://colab.research.google.com/github/anisayaffa/class-object/blob/main/Salinan_dari_Tugas_Manipulasi_String.ipynb\" target=\"_parent\"><img src=\"https://colab.research.google.com/assets/colab-badge.svg\" alt=\"Open In Colab\"/></a>"
      ]
    },
    {
      "cell_type": "markdown",
      "source": [
        "buatlah class Catatan dengan atribut\n",
        "1. nama (string)\n",
        "2. nomor_absen (intejer)\n",
        "3. catatan (string)\n",
        "\n",
        "buat fungsi untuk\n",
        "1. menggabungkan semua atribut diatas menjadi sebuah kalimat menggunakan pertambahan string\n",
        "2. menampilkan kalimat gabungan semua atribut\n",
        "3. mencari kata dalam sebuah kalimat menggunakan fungsi in\n",
        "4. menggandakan jumlah kalimat menggunakan tanda perkalian *\n",
        "5. menghitung jumlah huruf dalam kalimat menggunakan len\n",
        "6. mencari kata pertama dalam kalimat menggunakan startswith"
      ],
      "metadata": {
        "id": "AIkziXKoHrlK"
      }
    },
    {
      "cell_type": "code",
      "source": [
        "#desain class\n",
        "class Catatan:\n",
        "  def __init__(self, nama, no_absen, catatan):\n",
        "    self.nama = nama\n",
        "    self.no_absen = no_absen\n",
        "    self.catatan = catatan\n",
        "\n",
        "  def gabung(self):\n",
        "      nama_lengkap = str(self.nama)+' '+str(self.no_absen)+' '+str(self.catatan)\n",
        "      return nama_lengkap\n",
        "\n",
        "  def tampil(self):\n",
        "      print(self.gabung())\n",
        "\n",
        "  def cari(self):\n",
        "      print('kota' in self.gabung())\n",
        "\n",
        "\n",
        "  def duplikasi(self):\n",
        "      print('anisa yaffa zafirah' * 2)\n",
        "\n",
        "\n",
        "\n",
        "  def jumlah(self):\n",
        "      print(len(self.gabung()))\n",
        "\n",
        "  def kataawal(self):\n",
        "      kode = 'A'\n",
        "      print(self.gabung.startswith(kode))"
      ],
      "metadata": {
        "id": "_YQuLGp_IA93"
      },
      "execution_count": 76,
      "outputs": []
    },
    {
      "cell_type": "code",
      "source": [
        "#main program\n",
        "catatan = Catatan('Anisa', 4, 'pelajar dari smkn 9 malang')\n",
        "\n",
        "catatan.gabung()\n",
        "catatan.tampil()\n",
        "catatan.cari()\n",
        "catatan.duplikasi()\n",
        "catatan.jumlah()"
      ],
      "metadata": {
        "id": "QdIPVcTJID9Q",
        "colab": {
          "base_uri": "https://localhost:8080/"
        },
        "outputId": "a05b752e-647a-475e-f456-927ffb87f71e"
      },
      "execution_count": 78,
      "outputs": [
        {
          "output_type": "stream",
          "name": "stdout",
          "text": [
            "Anisa 4 pelajar dari smkn 9 malang\n",
            "False\n",
            "anisa yaffa zafirahanisa yaffa zafirah\n",
            "34\n"
          ]
        }
      ]
    }
  ]
}