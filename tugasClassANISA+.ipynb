{
  "nbformat": 4,
  "nbformat_minor": 0,
  "metadata": {
    "colab": {
      "provenance": [],
      "include_colab_link": true
    },
    "kernelspec": {
      "name": "python3",
      "display_name": "Python 3"
    },
    "language_info": {
      "name": "python"
    }
  },
  "cells": [
    {
      "cell_type": "markdown",
      "metadata": {
        "id": "view-in-github",
        "colab_type": "text"
      },
      "source": [
        "<a href=\"https://colab.research.google.com/github/anisayaffa/class-object/blob/main/tugasClassANISA%2B.ipynb\" target=\"_parent\"><img src=\"https://colab.research.google.com/assets/colab-badge.svg\" alt=\"Open In Colab\"/></a>"
      ]
    },
    {
      "cell_type": "markdown",
      "source": [
        "Lengkapilah class-class berikut ini."
      ],
      "metadata": {
        "id": "V6n6i25pQnla"
      }
    },
    {
      "cell_type": "markdown",
      "source": [
        "Class Senjata memiliki sebuah atribut poin dan fungsi tembak()"
      ],
      "metadata": {
        "id": "DoZvmdSTSDPa"
      }
    },
    {
      "cell_type": "code",
      "source": [
        "class Senjata:\n",
        "  def __init__(self,poin):\n",
        "    self.poin=poin\n",
        "\n",
        "  def tembak(self):\n",
        "    print(f\"Ditembak oleh pemain lain!\")\n",
        "\n",
        "\n"
      ],
      "metadata": {
        "id": "NYeV0w-FR6mf"
      },
      "execution_count": 8,
      "outputs": []
    },
    {
      "cell_type": "code",
      "source": [
        "senjata_saya=Senjata(50)\n",
        "senjata_saya.tembak()"
      ],
      "metadata": {
        "colab": {
          "base_uri": "https://localhost:8080/"
        },
        "id": "wlk_MxIqp1jS",
        "outputId": "5f68280d-1d2f-41b1-b54a-bb2d6cb45240"
      },
      "execution_count": 9,
      "outputs": [
        {
          "output_type": "stream",
          "name": "stdout",
          "text": [
            "Ditembak oleh pemain lain!\n"
          ]
        }
      ]
    },
    {
      "cell_type": "markdown",
      "source": [
        "Class Player memiliki atribut id, nama, skor dan nyawa serta sebuah atribut bertipe objek **Senjata**. Tipe atribut silakan anda tentukan sendiri. Class Player memiliki perilaku move, set_skor dan get_skor. Class player wajib memiliki kontruktor dengan nilai default untuk id = 0 dan skor = 0 dan nyawa 5. Fungsi move menampilkan teks \"Bergerak\". Fungsi set_skor berfungsi untuk menambah skor dan fungsi get_skor mengembalikan nilai skor."
      ],
      "metadata": {
        "id": "LwRHn7m4SBaJ"
      }
    },
    {
      "cell_type": "code",
      "execution_count": 10,
      "metadata": {
        "id": "JC6f_oE5Qhjt"
      },
      "outputs": [],
      "source": [
        "class Player:\n",
        "  def __init__(self, id=0, skor=0, nyawa=5):\n",
        "    self.id = id\n",
        "    self.nama = \"Pemain\"\n",
        "    self.skor = skor\n",
        "    self.nyawa = 5\n",
        "    self.senjata = Senjata(10)\n",
        "\n",
        "\n",
        "  def move(self):\n",
        "    print(\"Bergerak\")\n",
        "\n",
        "  def set_skor(self, tambahan_skor):\n",
        "    self.skor += tambahan_skor\n",
        "\n",
        "  def get_skor(self):\n",
        "    return self.skor"
      ]
    },
    {
      "cell_type": "code",
      "source": [
        "pl=Player(id=1, skor=100)\n",
        "\n",
        "pl.move()\n",
        "pl.senjata.tembak()\n",
        "pl.set_skor(45)\n",
        "print(\"Skor kamu:\", pl.get_skor())"
      ],
      "metadata": {
        "colab": {
          "base_uri": "https://localhost:8080/"
        },
        "id": "OrwWi4tSqfqR",
        "outputId": "b5a911a0-957c-456f-ce54-cc1e0d05b802"
      },
      "execution_count": 15,
      "outputs": [
        {
          "output_type": "stream",
          "name": "stdout",
          "text": [
            "Bergerak\n",
            "Ditembak oleh pemain lain!\n",
            "Skor kamu: 145\n"
          ]
        }
      ]
    }
  ]
}